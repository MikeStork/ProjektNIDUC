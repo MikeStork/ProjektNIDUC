{
 "cells": [
  {
   "cell_type": "markdown",
   "metadata": {},
   "source": [
    "Signal transmitted with CRC8 through BSC with probability of 1/2\n",
    "Calculated BER"
   ]
  },
  {
   "cell_type": "code",
   "execution_count": 1,
   "metadata": {},
   "outputs": [
    {
     "name": "stdout",
     "output_type": "stream",
     "text": [
      "0\n"
     ]
    },
    {
     "ename": "KeyboardInterrupt",
     "evalue": "",
     "output_type": "error",
     "traceback": [
      "\u001b[1;31m---------------------------------------------------------------------------\u001b[0m",
      "\u001b[1;31mKeyboardInterrupt\u001b[0m                         Traceback (most recent call last)",
      "Cell \u001b[1;32mIn[1], line 22\u001b[0m\n\u001b[0;32m     20\u001b[0m \u001b[38;5;28;01mwhile\u001b[39;00m(new_enc_block \u001b[38;5;241m==\u001b[39m \u001b[38;5;124m\"\u001b[39m\u001b[38;5;124m\"\u001b[39m):\n\u001b[0;32m     21\u001b[0m     \u001b[38;5;28;01mfor\u001b[39;00m x \u001b[38;5;129;01min\u001b[39;00m tmp:\n\u001b[1;32m---> 22\u001b[0m         new_enc_block\u001b[38;5;241m+\u001b[39m\u001b[38;5;241m=\u001b[39m\u001b[38;5;28;43mstr\u001b[39;49m\u001b[43m(\u001b[49m\u001b[43mx\u001b[49m\u001b[43m)\u001b[49m\n\u001b[0;32m     23\u001b[0m     \u001b[38;5;28;01mif\u001b[39;00m(checksums\u001b[38;5;241m.\u001b[39mCheckCRC8(new_enc_block)\u001b[38;5;241m!=\u001b[39m\u001b[38;5;28;01mTrue\u001b[39;00m):\n\u001b[0;32m     24\u001b[0m         error_blocks \u001b[38;5;241m+\u001b[39m\u001b[38;5;241m=\u001b[39m new_enc_block\n",
      "\u001b[1;31mKeyboardInterrupt\u001b[0m: "
     ]
    }
   ],
   "source": [
    "import komm\n",
    "import arqpack.binarySymmetricChannel as bscpack\n",
    "import arqpack.utility as util\n",
    "import  arqpack.checksums as checksums\n",
    "from arqpack.bitErrorRate import bitErrorRate as ber\n",
    "#bsc checksum\n",
    "BSC = bscpack.createBSC(1/100)\n",
    "entry = util.getSignalFromFile(\"input/example.txt\")\n",
    "entry = entry.replace(\"\\n\",\"\").replace(\"\\t\",\"\").replace(\" \",\"\")\n",
    "signal = util.splitBinary(entry,32)\n",
    "signal_with_crc = []\n",
    "error_blocks = \"\"\n",
    "for block in signal:\n",
    "    signal_with_crc.append(block+checksums.CRC8(block))\n",
    "\n",
    "signal_after_transmission = []\n",
    "for enc_block in signal_with_crc:\n",
    "    new_enc_block = \"\"\n",
    "    tmp = bscpack.sendSignalThroughBSC(BSC,util.convertStringToArrayOfBits(enc_block))\n",
    "    while(new_enc_block == \"\"):\n",
    "        for x in tmp:\n",
    "            new_enc_block+=str(x)\n",
    "        if(checksums.CheckCRC8(new_enc_block)!=True):\n",
    "            error_blocks += new_enc_block\n",
    "            new_enc_block = \"\"\n",
    "    \n",
    "    signal_after_transmission.append(new_enc_block)\n",
    "inputed_data = entry\n",
    "inputed_signal = ''.join(signal_with_crc)\n",
    "received_signal = ''.join(signal_after_transmission)\n",
    "print(f\"SIGNAL OF LENGTH:\\t{len(inputed_data)}\")\n",
    "print(f\"BER:\\t\\t{ber(inputed_signal,received_signal)}\")\n",
    "print(f\"REDUNDANCY:\\t{ len(received_signal)-len(inputed_data)}\")\n"
   ]
  },
  {
   "cell_type": "code",
   "execution_count": null,
   "metadata": {},
   "outputs": [],
   "source": [
    "import komm\n",
    "import arqpack.binarySymmetricChannel as bscpack\n",
    "import arqpack.utility as util\n",
    "import  arqpack.checksums as checksums\n",
    "from arqpack.bitErrorRate import bitErrorRate as ber\n",
    "\n",
    "\n",
    "BSC = bscpack.createBSC(1/9)\n",
    "entry = util.getSignalFromFile(\"input/example.txt\")\n",
    "entry = entry.replace(\"\\n\",\"\").replace(\"\\t\",\"\").replace(\" \",\"\")\n",
    "signal = util.splitBinary(entry,32)\n",
    "signal_with_crc = []\n",
    "\n",
    "for block in signal:\n",
    "    signal_with_crc.append(block+checksums.CRC8(block))\n",
    "    \n",
    "signal_after_transmission = []\n",
    "for enc_block in signal_with_crc:\n",
    "    new_enc_block = \"\"\n",
    "    tmp = bscpack.sendSignalThroughBSC(BSC,util.convertStringToArrayOfBits(enc_block))\n",
    "    for x in tmp:\n",
    "        new_enc_block+=str(x)\n",
    "    signal_after_transmission.append(new_enc_block)\n",
    "\n",
    "inputed_data = entry\n",
    "inputed_signal = ''.join(signal_with_crc)\n",
    "received_signal = ''.join(signal_after_transmission)\n",
    "\n",
    "print(f\"SIGNAL OF LENGTH:\\t{len(inputed_data)}\")\n",
    "print(f\"BER:\\t\\t{ber(inputed_signal,received_signal)}\")\n",
    "print(f\"REDUNDANCY:\\t{ len(received_signal)-len(inputed_data)}\")\n"
   ]
  }
 ],
 "metadata": {
  "kernelspec": {
   "display_name": "Python 3",
   "language": "python",
   "name": "python3"
  },
  "language_info": {
   "codemirror_mode": {
    "name": "ipython",
    "version": 3
   },
   "file_extension": ".py",
   "mimetype": "text/x-python",
   "name": "python",
   "nbconvert_exporter": "python",
   "pygments_lexer": "ipython3",
   "version": "3.12.1"
  }
 },
 "nbformat": 4,
 "nbformat_minor": 2
}
