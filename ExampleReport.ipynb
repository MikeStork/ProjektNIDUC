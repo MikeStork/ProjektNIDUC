{
 "cells": [
  {
   "cell_type": "markdown",
   "metadata": {},
   "source": [
    "Signal transmitted with CRC8 through BSC with probability of 1/2\n",
    "Calculated BER"
   ]
  },
  {
   "cell_type": "code",
   "execution_count": 22,
   "metadata": {},
   "outputs": [
    {
     "name": "stdout",
     "output_type": "stream",
     "text": [
      "BER:\t\t0.775\n",
      "REDUNDANCY:\t250000\n"
     ]
    }
   ],
   "source": [
    "import komm\n",
    "import arqpack.binarySymmetricChannel as bscpack\n",
    "import arqpack.utility as util\n",
    "import  arqpack.checksums as checksums\n",
    "from arqpack.bitErrorRate import bitErrorRate as ber\n",
    "BSC = bscpack.createBSC(3/7)\n",
    "entry = util.getSignalFromFile(\"input/example.txt\")\n",
    "entry = entry.replace(\"\\n\",\"\").replace(\"\\t\",\"\").replace(\" \",\"\")\n",
    "signal = util.splitBinary(entry,32)\n",
    "signal_with_crc = []\n",
    "for block in signal:\n",
    "    signal_with_crc.append(block+checksums.CRC8(block))\n",
    "\n",
    "signal_after_transmission = []\n",
    "for enc_block in signal_with_crc:\n",
    "    new_enc_block = \"\"\n",
    "    tmp = bscpack.sendSignalThroughBSC(BSC,util.convertStringToArrayOfBits(enc_block))\n",
    "    for x in tmp:\n",
    "        new_enc_block+=str(x)\n",
    "    signal_after_transmission.append(new_enc_block)\n",
    "inputed_data = entry\n",
    "inputed_signal = ''.join(signal_with_crc)\n",
    "received_signal = ''.join(signal_after_transmission)\n",
    "print(f\"BER:\\t\\t{ber(inputed_signal,received_signal)}\")\n",
    "print(f\"REDUNDANCY:\\t{ len(received_signal)-len(inputed_data)}\")\n"
   ]
  }
 ],
 "metadata": {
  "kernelspec": {
   "display_name": "Python 3",
   "language": "python",
   "name": "python3"
  },
  "language_info": {
   "codemirror_mode": {
    "name": "ipython",
    "version": 3
   },
   "file_extension": ".py",
   "mimetype": "text/x-python",
   "name": "python",
   "nbconvert_exporter": "python",
   "pygments_lexer": "ipython3",
   "version": "3.12.1"
  }
 },
 "nbformat": 4,
 "nbformat_minor": 2
}
